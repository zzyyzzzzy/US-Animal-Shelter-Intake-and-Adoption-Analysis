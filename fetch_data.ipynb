{
 "cells": [
  {
   "cell_type": "code",
   "execution_count": 1,
   "metadata": {},
   "outputs": [],
   "source": [
    "from rauth import OAuth2Service\n",
    "import json\n",
    "import pandas as pd\n",
    "import requests\n",
    "import random"
   ]
  },
  {
   "cell_type": "code",
   "execution_count": 2,
   "metadata": {},
   "outputs": [],
   "source": [
    "# Read the api key and secret from a .txt file\n",
    "keyFile = open('keys.txt', 'r')\n",
    "client_id = keyFile.readline().rstrip()\n",
    "client_secret= keyFile.readline().rstrip()\n",
    "keyFile.close()"
   ]
  },
  {
   "cell_type": "code",
   "execution_count": 3,
   "metadata": {},
   "outputs": [],
   "source": [
    "# To avoid creating an extra .txt file \n",
    "# paste your api key and secret here directly \n",
    "\n",
    "# client_id = \"YOUR API KEY HERE\"\n",
    "# client_secret=\"YOUR SECRET HERE\""
   ]
  },
  {
   "cell_type": "markdown",
   "metadata": {},
   "source": [
    "### Get the access token"
   ]
  },
  {
   "cell_type": "code",
   "execution_count": 4,
   "metadata": {},
   "outputs": [],
   "source": [
    "class ExampleOAuth2Client:\n",
    "    def __init__(self, client_id, client_secret):\n",
    "        self.access_token = None\n",
    "\n",
    "        self.service = OAuth2Service(\n",
    "            client_id=client_id,\n",
    "            client_secret=client_secret,\n",
    "            access_token_url=\"https://api.petfinder.com/v2/oauth2/token\",\n",
    "            authorize_url=\"https://api.petfinder.com/v2/oauth2/token\",\n",
    "            base_url=\"https://api.petfinder.com/\"\n",
    "        )\n",
    "\n",
    "        self.get_access_token()\n",
    "\n",
    "    def get_access_token(self):\n",
    "        data = {'grant_type': 'client_credentials'}\n",
    "\n",
    "        session = self.service.get_auth_session(data=data, decoder=json.loads)\n",
    "\n",
    "        self.access_token = session.access_token"
   ]
  },
  {
   "cell_type": "code",
   "execution_count": 5,
   "metadata": {},
   "outputs": [],
   "source": [
    "e = ExampleOAuth2Client(client_id, client_secret)\n",
    "e.get_access_token()"
   ]
  },
  {
   "cell_type": "code",
   "execution_count": 6,
   "metadata": {},
   "outputs": [],
   "source": [
    "token = e.access_token"
   ]
  },
  {
   "cell_type": "markdown",
   "metadata": {},
   "source": [
    "#### Make a request to the Petfinder server (example)"
   ]
  },
  {
   "cell_type": "code",
   "execution_count": 7,
   "metadata": {},
   "outputs": [],
   "source": [
    "# Set Parameters\n",
    "typ = 'cat'\n",
    "page = 1\n",
    "before = '2020-12-31T00:00:00Z'\n",
    "after = '2020-01-01T00:00:00Z'\n",
    "limit = 100"
   ]
  },
  {
   "cell_type": "code",
   "execution_count": 8,
   "metadata": {},
   "outputs": [],
   "source": [
    "headers = {'Authorization': 'Bearer '+ token}\n",
    "\n",
    "# URL here is not finalized --> need to decide time range and type\n",
    "# Using dog as an example\n",
    "url = f'https://api.petfinder.com/v2/animals?type={typ}&page={page}&limit={limit}&before={before}&after={after}&status=adopted'"
   ]
  },
  {
   "cell_type": "code",
   "execution_count": 9,
   "metadata": {},
   "outputs": [],
   "source": [
    "r = requests.get(url, headers=headers).json()"
   ]
  },
  {
   "cell_type": "markdown",
   "metadata": {},
   "source": [
    "#### Counting number of animals"
   ]
  },
  {
   "cell_type": "code",
   "execution_count": 10,
   "metadata": {},
   "outputs": [],
   "source": [
    "total_animals = lambda per_page, total_pages : per_page * total_pages\n",
    "def print_total_animals(before, after, total_animals):\n",
    "    print(f\"Total number of animals between {after[:10]} and {before[:10]}: {total_animals}\")"
   ]
  },
  {
   "cell_type": "code",
   "execution_count": 11,
   "metadata": {},
   "outputs": [
    {
     "name": "stdout",
     "output_type": "stream",
     "text": [
      "Total number of animals between 2020-01-01 and 2020-12-31: 298900\n"
     ]
    }
   ],
   "source": [
    "total_pages = r['pagination']['total_pages']\n",
    "per_page = limit\n",
    "print_total_animals(before, after, total_animals(per_page, total_pages))"
   ]
  },
  {
   "cell_type": "markdown",
   "metadata": {},
   "source": [
    "#### Get all data from the API and save as .json"
   ]
  },
  {
   "cell_type": "code",
   "execution_count": 12,
   "metadata": {},
   "outputs": [],
   "source": [
    "def make_req(page, typ, status):\n",
    "    url = url = f'https://api.petfinder.com/v2/animals?type={typ}&page={page}&limit={limit}&before={before}&after={after}&status={status}'\n",
    "    r = requests.get(url, headers=headers).json()\n",
    "    return r\n",
    "\n",
    "def get_all_data(typ, status='adoptable', upper_page_lim=0):\n",
    "    try:\n",
    "        url = f'https://api.petfinder.com/v2/animals?type={typ}&page={page}&limit={limit}&before={before}&after={after}&status={status}'\n",
    "        r = requests.get(url, headers=headers).json()\n",
    "        total_pages = r['pagination']['total_pages']\n",
    "    except:\n",
    "        print('error occured...')\n",
    "        print(r)\n",
    "        return\n",
    "    \n",
    "    res = r['animals']\n",
    "    if not upper_page_lim:\n",
    "        print(f'there should be around {limit * total_pages} {typ}s...')\n",
    "        for p in range(2, total_pages + 1):\n",
    "            r = make_req(p, status)\n",
    "            res.extend(r['animals'])\n",
    "    else:\n",
    "        print(f'there are around {limit * total_pages} {typ}s...')\n",
    "        print(f'taking random {upper_page_lim} pages from the api...')\n",
    "        for p in random.sample(range(2, total_pages + 1), upper_page_lim):\n",
    "            r = make_req(p, typ, status)\n",
    "            res.extend(r['animals'])\n",
    "    return res\n",
    "\n",
    "def save_as_json(res, name):\n",
    "    with open(f'{name}.json', 'w') as fp:\n",
    "        json.dump(res, fp)\n",
    "        \n",
    "def read_from_json(file_name):\n",
    "    with open(f'{file_name}') as f:\n",
    "        data = json.load(f)\n",
    "    return data"
   ]
  },
  {
   "cell_type": "code",
   "execution_count": 20,
   "metadata": {},
   "outputs": [],
   "source": [
    "# these two cells are pulling data from api and save as json file\n",
    "# run about 5 mins\n",
    "\n",
    "\n",
    "# res_adoptable_dog = get_all_data('dog')\n",
    "# save_as_json(res_adoptable_dog, 'dog_data_adoptable_2020')\n",
    "# res_adoptable_cat = get_all_data('cat')\n",
    "# save_as_json(res_adoptable_cat, 'cat_data_adoptable_2020')"
   ]
  },
  {
   "cell_type": "code",
   "execution_count": 14,
   "metadata": {},
   "outputs": [
    {
     "name": "stdout",
     "output_type": "stream",
     "text": [
      "there are around 298900 cats...\n",
      "taking random 200 pages from the api...\n"
     ]
    }
   ],
   "source": [
    "# res_adopted_dog = get_all_data('dog', 'adopted', 160)\n",
    "res_adopted_cat = get_all_data('cat', 'adopted', 200)"
   ]
  },
  {
   "cell_type": "code",
   "execution_count": 15,
   "metadata": {},
   "outputs": [],
   "source": [
    "# save_as_json(res_adopted_dog, 'dog_data_adopted_2020')\n",
    "save_as_json(res_adopted_cat, 'cat_data_adopted_2020')"
   ]
  },
  {
   "cell_type": "code",
   "execution_count": null,
   "metadata": {},
   "outputs": [],
   "source": []
  }
 ],
 "metadata": {
  "kernelspec": {
   "display_name": "Python 3",
   "language": "python",
   "name": "python3"
  },
  "language_info": {
   "codemirror_mode": {
    "name": "ipython",
    "version": 3
   },
   "file_extension": ".py",
   "mimetype": "text/x-python",
   "name": "python",
   "nbconvert_exporter": "python",
   "pygments_lexer": "ipython3",
   "version": "3.8.3"
  }
 },
 "nbformat": 4,
 "nbformat_minor": 4
}
