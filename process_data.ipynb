{
 "cells": [
  {
   "cell_type": "code",
   "execution_count": 1,
   "metadata": {},
   "outputs": [],
   "source": [
    "import json\n",
    "import pandas as pd"
   ]
  },
  {
   "cell_type": "code",
   "execution_count": 2,
   "metadata": {},
   "outputs": [],
   "source": [
    "pd.set_option('display.max_columns', None)\n",
    "def read_from_json(file_name):\n",
    "    with open(f'{file_name}') as f:\n",
    "        data = json.load(f)\n",
    "    return data"
   ]
  },
  {
   "cell_type": "code",
   "execution_count": 3,
   "metadata": {},
   "outputs": [],
   "source": [
    "dog_data_adoptable = read_from_json('data/dog_data_adoptable_2020.json')\n",
    "cat_data_adoptable = read_from_json('data/cat_data_adoptable_2020.json')\n",
    "dog_data_adopted = read_from_json('data/dog_data_adopted_2020.json')\n",
    "cat_data_adopted = read_from_json('data/cat_data_adopted_2020.json')"
   ]
  },
  {
   "cell_type": "markdown",
   "metadata": {},
   "source": [
    "#### Gnerating the Dataframe"
   ]
  },
  {
   "cell_type": "code",
   "execution_count": 4,
   "metadata": {},
   "outputs": [],
   "source": [
    "# Functions for flatten the nested dictionar\n",
    "def flatten_attr(df, attr):\n",
    "    for key in df[attr][0].keys():\n",
    "        df[f'{attr}_{key}'] = df[attr].apply(lambda row : row[key])\n",
    "\n",
    "def flatten_all_attrs(df, attr_lst):\n",
    "    for attr in attr_lst:\n",
    "        flatten_attr(df, attr)\n",
    "    return df.drop(attr_lst, axis=1)\n",
    "\n",
    "# Display what cloumns are not picked\n",
    "def get_not_included_col(df, needed_cols):\n",
    "    unneed_cols = []\n",
    "    for c in df.columns:\n",
    "        if c not in needed_cols:\n",
    "            unneed_cols.append(c)\n",
    "    return unneed_cols\n",
    "\n",
    "# Extract the state info\n",
    "def extract_state_city(df):\n",
    "    df['state'] = df['contact'].apply(lambda row : row['address']['state'])\n",
    "    df['city'] = df['contact'].apply(lambda row : row['address']['city'])"
   ]
  },
  {
   "cell_type": "code",
   "execution_count": 5,
   "metadata": {},
   "outputs": [],
   "source": [
    "# define columns that are needed and columns need to be flatten\n",
    "needed_cols = ['id', 'organization_id', 'type', 'breeds', 'colors', 'age', \\\n",
    "               'gender', 'size', 'coat', 'attributes', 'environment',  \\\n",
    "               'organization_animal_id', 'status', 'published_at', 'state', 'city'\n",
    "              ]\n",
    "need_flatten = ['breeds', 'colors', 'attributes', 'environment']"
   ]
  },
  {
   "cell_type": "code",
   "execution_count": 6,
   "metadata": {},
   "outputs": [],
   "source": [
    "def perform_flatten(df):\n",
    "    df = df[needed_cols]\n",
    "    df = flatten_all_attrs(df, need_flatten)\n",
    "    df = df.drop_duplicates()\n",
    "    return df"
   ]
  },
  {
   "cell_type": "code",
   "execution_count": 7,
   "metadata": {},
   "outputs": [],
   "source": [
    "dog_df_adoptable = pd.DataFrame(dog_data_adoptable)\n",
    "dog_df_adopted = pd.DataFrame(dog_data_adopted)"
   ]
  },
  {
   "cell_type": "code",
   "execution_count": 8,
   "metadata": {},
   "outputs": [
    {
     "name": "stderr",
     "output_type": "stream",
     "text": [
      "<ipython-input-4-1cbb0db6a2c3>:4: SettingWithCopyWarning: \n",
      "A value is trying to be set on a copy of a slice from a DataFrame.\n",
      "Try using .loc[row_indexer,col_indexer] = value instead\n",
      "\n",
      "See the caveats in the documentation: https://pandas.pydata.org/pandas-docs/stable/user_guide/indexing.html#returning-a-view-versus-a-copy\n",
      "  df[f'{attr}_{key}'] = df[attr].apply(lambda row : row[key])\n"
     ]
    }
   ],
   "source": [
    "extract_state_city(dog_df_adoptable)\n",
    "dog_df_adoptable = perform_flatten(dog_df_adoptable)\n",
    "\n",
    "extract_state_city(dog_df_adopted)\n",
    "dog_df_adopted = perform_flatten(dog_df_adopted)"
   ]
  },
  {
   "cell_type": "code",
   "execution_count": 9,
   "metadata": {},
   "outputs": [],
   "source": [
    "cat_df_adoptable = pd.DataFrame(cat_data_adoptable)\n",
    "cat_df_adopted = pd.DataFrame(cat_data_adopted)"
   ]
  },
  {
   "cell_type": "code",
   "execution_count": 10,
   "metadata": {},
   "outputs": [
    {
     "name": "stderr",
     "output_type": "stream",
     "text": [
      "<ipython-input-4-1cbb0db6a2c3>:4: SettingWithCopyWarning: \n",
      "A value is trying to be set on a copy of a slice from a DataFrame.\n",
      "Try using .loc[row_indexer,col_indexer] = value instead\n",
      "\n",
      "See the caveats in the documentation: https://pandas.pydata.org/pandas-docs/stable/user_guide/indexing.html#returning-a-view-versus-a-copy\n",
      "  df[f'{attr}_{key}'] = df[attr].apply(lambda row : row[key])\n"
     ]
    }
   ],
   "source": [
    "extract_state_city(cat_df_adoptable)\n",
    "cat_df_adoptable = perform_flatten(cat_df_adoptable)\n",
    "\n",
    "extract_state_city(cat_df_adopted)\n",
    "cat_df_adopted = perform_flatten(cat_df_adopted)"
   ]
  },
  {
   "cell_type": "markdown",
   "metadata": {},
   "source": [
    "#### Some Cleaning(dog) Dorp missing values > 80%"
   ]
  },
  {
   "cell_type": "code",
   "execution_count": 11,
   "metadata": {},
   "outputs": [],
   "source": [
    "def get_missing_percent(df):\n",
    "    percent_missing = df.isnull().sum() * 100 / len(df)\n",
    "    return pd.DataFrame({'column_name': df.columns,\n",
    "                                     'percent_missing': percent_missing})\n"
   ]
  },
  {
   "cell_type": "code",
   "execution_count": 13,
   "metadata": {},
   "outputs": [
    {
     "data": {
      "text/html": [
       "<div>\n",
       "<style scoped>\n",
       "    .dataframe tbody tr th:only-of-type {\n",
       "        vertical-align: middle;\n",
       "    }\n",
       "\n",
       "    .dataframe tbody tr th {\n",
       "        vertical-align: top;\n",
       "    }\n",
       "\n",
       "    .dataframe thead th {\n",
       "        text-align: right;\n",
       "    }\n",
       "</style>\n",
       "<table border=\"1\" class=\"dataframe\">\n",
       "  <thead>\n",
       "    <tr style=\"text-align: right;\">\n",
       "      <th></th>\n",
       "      <th>column_name</th>\n",
       "      <th>percent_missing</th>\n",
       "    </tr>\n",
       "  </thead>\n",
       "  <tbody>\n",
       "    <tr>\n",
       "      <th>coat</th>\n",
       "      <td>coat</td>\n",
       "      <td>57.269192</td>\n",
       "    </tr>\n",
       "    <tr>\n",
       "      <th>organization_animal_id</th>\n",
       "      <td>organization_animal_id</td>\n",
       "      <td>43.734320</td>\n",
       "    </tr>\n",
       "    <tr>\n",
       "      <th>breeds_secondary</th>\n",
       "      <td>breeds_secondary</td>\n",
       "      <td>65.943302</td>\n",
       "    </tr>\n",
       "    <tr>\n",
       "      <th>colors_primary</th>\n",
       "      <td>colors_primary</td>\n",
       "      <td>43.715504</td>\n",
       "    </tr>\n",
       "    <tr>\n",
       "      <th>colors_secondary</th>\n",
       "      <td>colors_secondary</td>\n",
       "      <td>74.491972</td>\n",
       "    </tr>\n",
       "    <tr>\n",
       "      <th>colors_tertiary</th>\n",
       "      <td>colors_tertiary</td>\n",
       "      <td>97.547667</td>\n",
       "    </tr>\n",
       "    <tr>\n",
       "      <th>attributes_declawed</th>\n",
       "      <td>attributes_declawed</td>\n",
       "      <td>100.000000</td>\n",
       "    </tr>\n",
       "    <tr>\n",
       "      <th>environment_children</th>\n",
       "      <td>environment_children</td>\n",
       "      <td>57.934019</td>\n",
       "    </tr>\n",
       "    <tr>\n",
       "      <th>environment_dogs</th>\n",
       "      <td>environment_dogs</td>\n",
       "      <td>46.594330</td>\n",
       "    </tr>\n",
       "    <tr>\n",
       "      <th>environment_cats</th>\n",
       "      <td>environment_cats</td>\n",
       "      <td>67.316859</td>\n",
       "    </tr>\n",
       "  </tbody>\n",
       "</table>\n",
       "</div>"
      ],
      "text/plain": [
       "                                   column_name  percent_missing\n",
       "coat                                      coat        57.269192\n",
       "organization_animal_id  organization_animal_id        43.734320\n",
       "breeds_secondary              breeds_secondary        65.943302\n",
       "colors_primary                  colors_primary        43.715504\n",
       "colors_secondary              colors_secondary        74.491972\n",
       "colors_tertiary                colors_tertiary        97.547667\n",
       "attributes_declawed        attributes_declawed       100.000000\n",
       "environment_children      environment_children        57.934019\n",
       "environment_dogs              environment_dogs        46.594330\n",
       "environment_cats              environment_cats        67.316859"
      ]
     },
     "execution_count": 13,
     "metadata": {},
     "output_type": "execute_result"
    }
   ],
   "source": [
    "dog_df_adoptable_missing = get_missing_percent(dog_df_adoptable)\n",
    "dog_df_adoptable_missing[dog_df_adoptable_missing['percent_missing'] > 0] "
   ]
  },
  {
   "cell_type": "code",
   "execution_count": 14,
   "metadata": {},
   "outputs": [
    {
     "data": {
      "text/html": [
       "<div>\n",
       "<style scoped>\n",
       "    .dataframe tbody tr th:only-of-type {\n",
       "        vertical-align: middle;\n",
       "    }\n",
       "\n",
       "    .dataframe tbody tr th {\n",
       "        vertical-align: top;\n",
       "    }\n",
       "\n",
       "    .dataframe thead th {\n",
       "        text-align: right;\n",
       "    }\n",
       "</style>\n",
       "<table border=\"1\" class=\"dataframe\">\n",
       "  <thead>\n",
       "    <tr style=\"text-align: right;\">\n",
       "      <th></th>\n",
       "      <th>column_name</th>\n",
       "      <th>percent_missing</th>\n",
       "    </tr>\n",
       "  </thead>\n",
       "  <tbody>\n",
       "    <tr>\n",
       "      <th>coat</th>\n",
       "      <td>coat</td>\n",
       "      <td>27.496894</td>\n",
       "    </tr>\n",
       "    <tr>\n",
       "      <th>organization_animal_id</th>\n",
       "      <td>organization_animal_id</td>\n",
       "      <td>72.869565</td>\n",
       "    </tr>\n",
       "    <tr>\n",
       "      <th>breeds_secondary</th>\n",
       "      <td>breeds_secondary</td>\n",
       "      <td>65.944099</td>\n",
       "    </tr>\n",
       "    <tr>\n",
       "      <th>colors_primary</th>\n",
       "      <td>colors_primary</td>\n",
       "      <td>27.732919</td>\n",
       "    </tr>\n",
       "    <tr>\n",
       "      <th>colors_secondary</th>\n",
       "      <td>colors_secondary</td>\n",
       "      <td>65.316770</td>\n",
       "    </tr>\n",
       "    <tr>\n",
       "      <th>colors_tertiary</th>\n",
       "      <td>colors_tertiary</td>\n",
       "      <td>95.614907</td>\n",
       "    </tr>\n",
       "    <tr>\n",
       "      <th>attributes_declawed</th>\n",
       "      <td>attributes_declawed</td>\n",
       "      <td>100.000000</td>\n",
       "    </tr>\n",
       "    <tr>\n",
       "      <th>environment_children</th>\n",
       "      <td>environment_children</td>\n",
       "      <td>42.962733</td>\n",
       "    </tr>\n",
       "    <tr>\n",
       "      <th>environment_dogs</th>\n",
       "      <td>environment_dogs</td>\n",
       "      <td>29.577640</td>\n",
       "    </tr>\n",
       "    <tr>\n",
       "      <th>environment_cats</th>\n",
       "      <td>environment_cats</td>\n",
       "      <td>66.211180</td>\n",
       "    </tr>\n",
       "  </tbody>\n",
       "</table>\n",
       "</div>"
      ],
      "text/plain": [
       "                                   column_name  percent_missing\n",
       "coat                                      coat        27.496894\n",
       "organization_animal_id  organization_animal_id        72.869565\n",
       "breeds_secondary              breeds_secondary        65.944099\n",
       "colors_primary                  colors_primary        27.732919\n",
       "colors_secondary              colors_secondary        65.316770\n",
       "colors_tertiary                colors_tertiary        95.614907\n",
       "attributes_declawed        attributes_declawed       100.000000\n",
       "environment_children      environment_children        42.962733\n",
       "environment_dogs              environment_dogs        29.577640\n",
       "environment_cats              environment_cats        66.211180"
      ]
     },
     "execution_count": 14,
     "metadata": {},
     "output_type": "execute_result"
    }
   ],
   "source": [
    "dog_df_adopted_missing = get_missing_percent(dog_df_adopted)\n",
    "dog_df_adopted_missing[dog_df_adopted_missing['percent_missing'] > 0] "
   ]
  },
  {
   "cell_type": "code",
   "execution_count": 15,
   "metadata": {},
   "outputs": [],
   "source": [
    "dog_df_adopted = dog_df_adopted.drop(['colors_tertiary', 'attributes_declawed'], axis=1)\n",
    "dog_df_adopted = dog_df_adopted.fillna('missing')"
   ]
  },
  {
   "cell_type": "code",
   "execution_count": 16,
   "metadata": {},
   "outputs": [],
   "source": [
    "dog_df_adoptable = dog_df_adoptable.drop(['colors_tertiary', 'attributes_declawed'], axis=1)\n",
    "dog_df_adoptable = dog_df_adoptable.fillna('missing')"
   ]
  },
  {
   "cell_type": "markdown",
   "metadata": {},
   "source": [
    "#### Some Cleaning(cat) Dorp missing values > 80% (keep breeds_secondary and colors_secondary)"
   ]
  },
  {
   "cell_type": "code",
   "execution_count": 17,
   "metadata": {},
   "outputs": [
    {
     "data": {
      "text/html": [
       "<div>\n",
       "<style scoped>\n",
       "    .dataframe tbody tr th:only-of-type {\n",
       "        vertical-align: middle;\n",
       "    }\n",
       "\n",
       "    .dataframe tbody tr th {\n",
       "        vertical-align: top;\n",
       "    }\n",
       "\n",
       "    .dataframe thead th {\n",
       "        text-align: right;\n",
       "    }\n",
       "</style>\n",
       "<table border=\"1\" class=\"dataframe\">\n",
       "  <thead>\n",
       "    <tr style=\"text-align: right;\">\n",
       "      <th></th>\n",
       "      <th>column_name</th>\n",
       "      <th>percent_missing</th>\n",
       "    </tr>\n",
       "  </thead>\n",
       "  <tbody>\n",
       "    <tr>\n",
       "      <th>coat</th>\n",
       "      <td>coat</td>\n",
       "      <td>54.336005</td>\n",
       "    </tr>\n",
       "    <tr>\n",
       "      <th>organization_animal_id</th>\n",
       "      <td>organization_animal_id</td>\n",
       "      <td>42.406029</td>\n",
       "    </tr>\n",
       "    <tr>\n",
       "      <th>breeds_secondary</th>\n",
       "      <td>breeds_secondary</td>\n",
       "      <td>86.977676</td>\n",
       "    </tr>\n",
       "    <tr>\n",
       "      <th>colors_primary</th>\n",
       "      <td>colors_primary</td>\n",
       "      <td>36.037970</td>\n",
       "    </tr>\n",
       "    <tr>\n",
       "      <th>colors_secondary</th>\n",
       "      <td>colors_secondary</td>\n",
       "      <td>86.586529</td>\n",
       "    </tr>\n",
       "    <tr>\n",
       "      <th>colors_tertiary</th>\n",
       "      <td>colors_tertiary</td>\n",
       "      <td>98.745468</td>\n",
       "    </tr>\n",
       "    <tr>\n",
       "      <th>environment_children</th>\n",
       "      <td>environment_children</td>\n",
       "      <td>68.651021</td>\n",
       "    </tr>\n",
       "    <tr>\n",
       "      <th>environment_dogs</th>\n",
       "      <td>environment_dogs</td>\n",
       "      <td>76.464415</td>\n",
       "    </tr>\n",
       "    <tr>\n",
       "      <th>environment_cats</th>\n",
       "      <td>environment_cats</td>\n",
       "      <td>49.370349</td>\n",
       "    </tr>\n",
       "  </tbody>\n",
       "</table>\n",
       "</div>"
      ],
      "text/plain": [
       "                                   column_name  percent_missing\n",
       "coat                                      coat        54.336005\n",
       "organization_animal_id  organization_animal_id        42.406029\n",
       "breeds_secondary              breeds_secondary        86.977676\n",
       "colors_primary                  colors_primary        36.037970\n",
       "colors_secondary              colors_secondary        86.586529\n",
       "colors_tertiary                colors_tertiary        98.745468\n",
       "environment_children      environment_children        68.651021\n",
       "environment_dogs              environment_dogs        76.464415\n",
       "environment_cats              environment_cats        49.370349"
      ]
     },
     "execution_count": 17,
     "metadata": {},
     "output_type": "execute_result"
    }
   ],
   "source": [
    "cat_df_adoptable_missing = get_missing_percent(cat_df_adoptable)\n",
    "cat_df_adoptable_missing[cat_df_adoptable_missing['percent_missing'] > 0] "
   ]
  },
  {
   "cell_type": "code",
   "execution_count": 18,
   "metadata": {},
   "outputs": [
    {
     "data": {
      "text/html": [
       "<div>\n",
       "<style scoped>\n",
       "    .dataframe tbody tr th:only-of-type {\n",
       "        vertical-align: middle;\n",
       "    }\n",
       "\n",
       "    .dataframe tbody tr th {\n",
       "        vertical-align: top;\n",
       "    }\n",
       "\n",
       "    .dataframe thead th {\n",
       "        text-align: right;\n",
       "    }\n",
       "</style>\n",
       "<table border=\"1\" class=\"dataframe\">\n",
       "  <thead>\n",
       "    <tr style=\"text-align: right;\">\n",
       "      <th></th>\n",
       "      <th>column_name</th>\n",
       "      <th>percent_missing</th>\n",
       "    </tr>\n",
       "  </thead>\n",
       "  <tbody>\n",
       "    <tr>\n",
       "      <th>coat</th>\n",
       "      <td>coat</td>\n",
       "      <td>22.575509</td>\n",
       "    </tr>\n",
       "    <tr>\n",
       "      <th>organization_animal_id</th>\n",
       "      <td>organization_animal_id</td>\n",
       "      <td>66.039707</td>\n",
       "    </tr>\n",
       "    <tr>\n",
       "      <th>breeds_secondary</th>\n",
       "      <td>breeds_secondary</td>\n",
       "      <td>82.236155</td>\n",
       "    </tr>\n",
       "    <tr>\n",
       "      <th>colors_primary</th>\n",
       "      <td>colors_primary</td>\n",
       "      <td>16.679106</td>\n",
       "    </tr>\n",
       "    <tr>\n",
       "      <th>colors_secondary</th>\n",
       "      <td>colors_secondary</td>\n",
       "      <td>83.843360</td>\n",
       "    </tr>\n",
       "    <tr>\n",
       "      <th>colors_tertiary</th>\n",
       "      <td>colors_tertiary</td>\n",
       "      <td>97.671294</td>\n",
       "    </tr>\n",
       "    <tr>\n",
       "      <th>environment_children</th>\n",
       "      <td>environment_children</td>\n",
       "      <td>53.619943</td>\n",
       "    </tr>\n",
       "    <tr>\n",
       "      <th>environment_dogs</th>\n",
       "      <td>environment_dogs</td>\n",
       "      <td>67.094591</td>\n",
       "    </tr>\n",
       "    <tr>\n",
       "      <th>environment_cats</th>\n",
       "      <td>environment_cats</td>\n",
       "      <td>36.164602</td>\n",
       "    </tr>\n",
       "  </tbody>\n",
       "</table>\n",
       "</div>"
      ],
      "text/plain": [
       "                                   column_name  percent_missing\n",
       "coat                                      coat        22.575509\n",
       "organization_animal_id  organization_animal_id        66.039707\n",
       "breeds_secondary              breeds_secondary        82.236155\n",
       "colors_primary                  colors_primary        16.679106\n",
       "colors_secondary              colors_secondary        83.843360\n",
       "colors_tertiary                colors_tertiary        97.671294\n",
       "environment_children      environment_children        53.619943\n",
       "environment_dogs              environment_dogs        67.094591\n",
       "environment_cats              environment_cats        36.164602"
      ]
     },
     "execution_count": 18,
     "metadata": {},
     "output_type": "execute_result"
    }
   ],
   "source": [
    "cat_df_adopted_missing = get_missing_percent(cat_df_adopted)\n",
    "cat_df_adopted_missing[cat_df_adopted_missing['percent_missing'] > 0] "
   ]
  },
  {
   "cell_type": "code",
   "execution_count": 19,
   "metadata": {},
   "outputs": [],
   "source": [
    "cat_df_adoptable = cat_df_adoptable.drop(['colors_tertiary'], axis=1)\n",
    "cat_df_adoptable = cat_df_adoptable.fillna('missing')"
   ]
  },
  {
   "cell_type": "code",
   "execution_count": 20,
   "metadata": {},
   "outputs": [],
   "source": [
    "cat_df_adopted = cat_df_adopted.drop(['colors_tertiary'], axis=1)\n",
    "cat_df_adopted = cat_df_adopted.fillna('missing')"
   ]
  },
  {
   "cell_type": "code",
   "execution_count": 21,
   "metadata": {},
   "outputs": [],
   "source": [
    "# dog_df_adoptable.to_csv('dog_adoptable_2020.csv',index=False)\n",
    "# dog_df_adopted.to_csv('dog_adopted_2020.csv',index=False)\n",
    "\n",
    "# cat_df_adoptable.to_csv('cat_adoptable_2020.csv',index=False)\n",
    "cat_df_adopted.to_csv('cat_adopted_2020.csv',index=False)"
   ]
  },
  {
   "cell_type": "code",
   "execution_count": null,
   "metadata": {},
   "outputs": [],
   "source": []
  }
 ],
 "metadata": {
  "kernelspec": {
   "display_name": "Python 3",
   "language": "python",
   "name": "python3"
  },
  "language_info": {
   "codemirror_mode": {
    "name": "ipython",
    "version": 3
   },
   "file_extension": ".py",
   "mimetype": "text/x-python",
   "name": "python",
   "nbconvert_exporter": "python",
   "pygments_lexer": "ipython3",
   "version": "3.8.3"
  }
 },
 "nbformat": 4,
 "nbformat_minor": 4
}
